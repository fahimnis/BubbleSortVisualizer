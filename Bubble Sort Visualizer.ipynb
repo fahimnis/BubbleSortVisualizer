{
 "cells": [
  {
   "cell_type": "markdown",
   "metadata": {},
   "source": [
    "## <font color = purple> <div align=\"center\">Using Matplotlib to Animate Alogorithms</div></font>\n",
    "\n",
    "This app visualizes the algorithm which calculates Magic Squares with odd number of sides. A Magic Square is a 'n x n' grid where all the rows, columns, and diagonals add up to the same \"magic number\". The diagram below shows a magic square of size 3x3. \n",
    "<br/>\n",
    "<br/>\n",
    "**Note:** The solutions are not unique.\n",
    "\n",
    "\n",
    "<img src=\"magic.png\" alt=\"Drawing\" style=\"width: 200px;\"/>\n",
    "<br/>\n",
    "<br/>\n",
    "Use the buttons below to select the number of sides you want your magic square to have. Select the interval in miliseconds to set the speed of the visualization. \n",
    "\n",
    "<br/>\n",
    "\n",
    "The square will open as a new window. Close that window each time before changing sides or interval for ideal performance.\n",
    "\n",
    "<br/>\n",
    "\n",
    "<font color = darkred><div>**Be aware: large squares (i.e sides > 17) at low interval (i.e less than 40 miliseconds)  may be laggy**. </div></font>\n",
    "\n",
    "\n",
    "\n",
    "\n",
    "\n",
    "\n",
    "Enjoy!\n"
   ]
  },
  {
   "cell_type": "code",
   "execution_count": 3,
   "metadata": {},
   "outputs": [],
   "source": [
    "import numpy as np\n",
    "import matplotlib.pyplot as plt\n",
    "import matplotlib.animation as animation\n",
    "import random\n",
    "from matplotlib import cm\n",
    "%matplotlib qt"
   ]
  },
  {
   "cell_type": "code",
   "execution_count": 4,
   "metadata": {
    "scrolled": true
   },
   "outputs": [],
   "source": [
    "def Bsort(ar,rows,columns,color):\n",
    "    \n",
    "    global masterim\n",
    "    \n",
    "\n",
    "    strip = [item for sublist in ar for item in sublist] #flatten the list of lists\n",
    "\n",
    "    first_frame = plt.imshow(ar, animated=True,cmap=color,alpha = 1) #visualize the intital state\n",
    "    \n",
    "    masterim.append([first_frame]) #store the image in our grand list of images\n",
    "    \n",
    "    ## The portion below was adapted from GeeksforGeeks.com\n",
    "    \n",
    "    for i in range(columns**2):\n",
    "\n",
    "        swapped = False\n",
    "\n",
    "        # traverse the array from 0 to \n",
    "        # n-i-1. Swap if the element  \n",
    "        # found is greater than the \n",
    "        # next element \n",
    "\n",
    "        for k in range(0,columns**2-i-1):\n",
    "\n",
    "            if strip[k] > strip[k+1] : \n",
    "\n",
    "                strip[k], strip[k+1] = strip[k+1], strip[k]\n",
    "                \n",
    "                one_step = np.reshape(strip,(rows,rows))\n",
    "            \n",
    "                frame = plt.imshow(one_step, animated=True,cmap=color,alpha = 1)\n",
    "                \n",
    "#                 ax.text(i, rows,str(ar_copy[rows][i]),ha=\"center\", va=\"center\", color=\"k\",size = 13)\n",
    "                \n",
    "                masterim.append([frame])\n",
    "                \n",
    "                swapped = True\n",
    "                \n",
    "                \n",
    "\n",
    "        if swapped == False:\n",
    "            \n",
    "            break"
   ]
  },
  {
   "cell_type": "code",
   "execution_count": 7,
   "metadata": {},
   "outputs": [],
   "source": [
    "def viz_Bsort(ar):\n",
    "    ''' \n",
    "    This funciton will take an N x M array and sort it based on the bubble sort algorithm\n",
    "    \n",
    "    '''\n",
    "#     global ax\n",
    "    \n",
    "    fig,ax = plt.subplots(figsize=(8,7),facecolor='white',edgecolor = 'white');\n",
    "    \n",
    "    plt.title('Bubble Sort Algorithm', pad = 15, fontdict = {'fontsize':35,'fontweight':30,'color':'purple'})\n",
    "\n",
    "#     ax.text(2,15.5,'LOW VALUES',ha=\"center\", va=\"center\", color=\"darkred\",size = 20)\n",
    "#     ax.text(11.8,15.5,'HIGH VALUES',ha=\"center\", va=\"center\", color=\"darkblue\",size = 20)\n",
    "    \n",
    "    rows = len(ar); columns = len(ar[0])\n",
    "    \n",
    "    \n",
    "    \n",
    "    global masterim\n",
    "    \n",
    "    masterim = [] \n",
    "    \n",
    "    color = 'RdPu'  #inferno with yellow figure background looks crazyy!! \n",
    "\n",
    "    sorted_array = Bsort(ar,rows,columns,color = color)\n",
    "        \n",
    "    ani = animation.ArtistAnimation(fig, masterim, interval=20, blit=True,\n",
    "                                    repeat_delay=100);\n",
    "    plt.axis('off')\n",
    "    \n",
    "#     plt.colorbar()\n",
    "    \n",
    "#     writergif = animation.PillowWriter(fps=20) \n",
    "\n",
    "#     ani.save('BubbleSort8.gif', writer=writergif)\n",
    "        \n",
    "#     print(masterim)\n",
    "        \n",
    "        \n",
    "        \n",
    "    "
   ]
  },
  {
   "cell_type": "code",
   "execution_count": 8,
   "metadata": {},
   "outputs": [],
   "source": [
    "x = 5\n",
    "y = 5\n",
    "\n",
    "Ar = []\n",
    "\n",
    "for i in range(y):\n",
    "    \n",
    "    #create a list of lists\n",
    "    \n",
    "    A =  [random.randrange(1, 100, 1) for i in range(x)]  \n",
    "    Ar.append(A) \n",
    "    \n",
    "viz_Bsort(Ar)"
   ]
  },
  {
   "cell_type": "code",
   "execution_count": null,
   "metadata": {},
   "outputs": [],
   "source": [
    "\n"
   ]
  },
  {
   "cell_type": "code",
   "execution_count": null,
   "metadata": {},
   "outputs": [],
   "source": []
  },
  {
   "cell_type": "code",
   "execution_count": null,
   "metadata": {},
   "outputs": [],
   "source": []
  },
  {
   "cell_type": "code",
   "execution_count": null,
   "metadata": {},
   "outputs": [],
   "source": []
  },
  {
   "cell_type": "code",
   "execution_count": null,
   "metadata": {},
   "outputs": [],
   "source": []
  },
  {
   "cell_type": "code",
   "execution_count": null,
   "metadata": {},
   "outputs": [],
   "source": [
    "\n"
   ]
  },
  {
   "cell_type": "code",
   "execution_count": null,
   "metadata": {},
   "outputs": [],
   "source": []
  },
  {
   "cell_type": "code",
   "execution_count": null,
   "metadata": {},
   "outputs": [],
   "source": []
  },
  {
   "cell_type": "code",
   "execution_count": null,
   "metadata": {},
   "outputs": [],
   "source": []
  }
 ],
 "metadata": {
  "kernelspec": {
   "display_name": "Python 3",
   "language": "python",
   "name": "python3"
  },
  "language_info": {
   "codemirror_mode": {
    "name": "ipython",
    "version": 3
   },
   "file_extension": ".py",
   "mimetype": "text/x-python",
   "name": "python",
   "nbconvert_exporter": "python",
   "pygments_lexer": "ipython3",
   "version": "3.7.3"
  }
 },
 "nbformat": 4,
 "nbformat_minor": 2
}
